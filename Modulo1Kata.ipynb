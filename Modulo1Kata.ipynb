{
 "cells": [
  {
   "cell_type": "markdown",
   "metadata": {},
   "source": [
    "Primer Programa\n",
    "\n",
    "Mostrar Fecha"
   ]
  },
  {
   "cell_type": "code",
   "execution_count": 58,
   "metadata": {},
   "outputs": [
    {
     "name": "stdout",
     "output_type": "stream",
     "text": [
      "La fecha de Hoy es: 2022-02-10\n"
     ]
    }
   ],
   "source": [
    "print(\"La fecha de Hoy es: \" + str(date.today()))"
   ]
  },
  {
   "cell_type": "markdown",
   "metadata": {},
   "source": [
    "Convertidor de Unidades\n",
    "Parsec a Años Luz "
   ]
  },
  {
   "cell_type": "code",
   "execution_count": 67,
   "metadata": {},
   "outputs": [
    {
     "name": "stdout",
     "output_type": "stream",
     "text": [
      "Calculadora de Parsec a Años Luz FORMA 1\n",
      "La cantidad de 11 Parsec es igual a 35.877159999999996 Años Luz\n"
     ]
    }
   ],
   "source": [
    "print(\"Calculadora de Parsec a Años Luz FORMA 1\")\n",
    "Parsec = int(input(\"Ingrese el numero de Parsec\"))\n",
    "Años_Luz = 3.26156\n",
    "Convertidor = Parsec * Años_Luz\n",
    "print(\"La cantidad de \"+ str(Parsec)+ \" Parsec\" + \" es igual a \" + str(Convertidor)+\" Años Luz\")\n"
   ]
  },
  {
   "cell_type": "code",
   "execution_count": 68,
   "metadata": {},
   "outputs": [
    {
     "name": "stdout",
     "output_type": "stream",
     "text": [
      "Calculadora de Parsec a Años Luz FORMA 2\n",
      "La cantidad de 11 Parsec es igual a 35.877159999999996 Años Luz\n"
     ]
    }
   ],
   "source": [
    "print(\"Calculadora de Parsec a Años Luz FORMA 2\")\n",
    "Parsec = int(input(\"Ingrese el numero de Parsec\"))\n",
    "Años_Luz = 3.26156\n",
    "Convertidor = Parsec * Años_Luz\n",
    "print(f\"La cantidad de {Parsec} Parsec es igual a {Convertidor} Años Luz\")\n"
   ]
  }
 ],
 "metadata": {
  "interpreter": {
   "hash": "05f9bc7b84d31fc3121088bd43a996380a23bdff66675db9f5aeff88d97caa53"
  },
  "kernelspec": {
   "display_name": "Python 3.9.10 64-bit (windows store)",
   "language": "python",
   "name": "python3"
  },
  "language_info": {
   "codemirror_mode": {
    "name": "ipython",
    "version": 3
   },
   "file_extension": ".py",
   "mimetype": "text/x-python",
   "name": "python",
   "nbconvert_exporter": "python",
   "pygments_lexer": "ipython3",
   "version": "3.9.10"
  },
  "orig_nbformat": 4
 },
 "nbformat": 4,
 "nbformat_minor": 2
}
