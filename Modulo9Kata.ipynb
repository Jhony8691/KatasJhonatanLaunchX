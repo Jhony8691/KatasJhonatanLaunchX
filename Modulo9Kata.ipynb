{
 "cells": [
  {
   "cell_type": "markdown",
   "metadata": {},
   "source": [
    "Ejericio 1 Trabajar con Argumentos en funciones"
   ]
  },
  {
   "cell_type": "code",
   "execution_count": 5,
   "metadata": {},
   "outputs": [
    {
     "name": "stdout",
     "output_type": "stream",
     "text": [
      "Informe de Combustible:\n",
      "    Promedio Total: 78.33333333333333%\n",
      "    tanque Principal: 80%\n",
      "    Tanque Externo: 70%\n",
      "    Tanque de Hidrógeno: 85% \n",
      "    \n",
      "Informe de Combustible:\n",
      "    Promedio Total: 78.0%\n",
      "    Tanque Principal: 88%\n",
      "    Tanque Externo: 76%\n",
      "    Tanque de Hidrógeno: 70% \n",
      "    \n"
     ]
    }
   ],
   "source": [
    "# Función para leer 3 tanques de combustible y muestre el promedio\n",
    "\n",
    "def generate_report(main_tank, external_tank, hydrogen_tank):\n",
    "    total_average = (main_tank + external_tank + hydrogen_tank) / 3\n",
    "    return f\"\"\"Informe de Combustible:\n",
    "    Promedio Total: {total_average}%\n",
    "    Tanque Principal: {main_tank}%\n",
    "    Tanque Externo: {external_tank}%\n",
    "    Tanque de Hidrógeno: {hydrogen_tank}% \n",
    "    \"\"\"\n",
    "# Llamamos a la función que genera el reporte print(funcion(tanque1, tanque2, tanque3))\n",
    "print(generate_report(80, 70, 85))\n",
    "# Función promedio \n",
    "def average(values):\n",
    "    total = sum(values)\n",
    "    number_of_items = len(values)\n",
    "    return total / number_of_items\n",
    "\n",
    "# Test the averaging function with a list of integers:\n",
    "average([80, 85, 81]) \n",
    "# Actualiza la función\n",
    "def generate_report(main_tank, external_tank, hydrogen_tank):\n",
    "    return f\"\"\"Informe de Combustible:\n",
    "    Promedio Total: {average([main_tank, external_tank, hydrogen_tank])}%\n",
    "    Tanque Principal: {main_tank}%\n",
    "    Tanque Externo: {external_tank}%\n",
    "    Tanque de Hidrógeno: {hydrogen_tank}% \n",
    "    \"\"\"\n",
    "\n",
    "# Call the updated function again with different values\n",
    "print(generate_report(88, 76, 70))"
   ]
  },
  {
   "cell_type": "markdown",
   "metadata": {},
   "source": [
    "Ejercicio 2 Trabajar con argumentos de palabras clave en funciones"
   ]
  },
  {
   "cell_type": "code",
   "execution_count": 17,
   "metadata": {},
   "outputs": [
    {
     "name": "stdout",
     "output_type": "stream",
     "text": [
      "\n",
      "    Misión a Luna\n",
      "    Tiempo total de viaje: 65 minutos\n",
      "    Combutible total que queda: 500000 galones\n",
      "    \n",
      "\n",
      "    Misión a Luna\n",
      "    Tiempo total de viaje: 76 minutos\n",
      "    Combutible total que queda: 500000\n",
      "    \n",
      "\n",
      "    Misión a Luna\n",
      "    Tiempo total de viaje: 74 minutos\n",
      "    Combutible total que queda: 500000\n",
      "    main tank --> 300000 Galones quedan \n",
      "external tank --> 200000 Galones quedan \n",
      "\n"
     ]
    }
   ],
   "source": [
    "def mission_report(pre_launch_time, flight_time, destination, external_tank, main_tank):\n",
    "    return f\"\"\"\n",
    "    Misión a {destination}\n",
    "    Tiempo total de viaje: {pre_launch_time + flight_time} minutos\n",
    "    Combutible total que queda: {external_tank + main_tank} galones\n",
    "    \"\"\"\n",
    "\n",
    "print(mission_report(14, 51, \"Luna\", 200000, 300000))\n",
    "# Escribe tu nueva función de reporte considerando lo anterior\n",
    "\n",
    "def mission_report(destination, *minutes, **fuel_reservoirs):\n",
    "    return f\"\"\"\n",
    "    Misión a {destination}\n",
    "    Tiempo total de viaje: {sum(minutes)} minutos\n",
    "    Combutible total que queda: {sum(fuel_reservoirs.values())}\n",
    "    \"\"\"\n",
    "\n",
    "print(mission_report(\"Luna\", 10, 15, 51, main=300000, external=200000))\n",
    "# Escribe tu nueva función\n",
    "\n",
    "def mission_report(destination, *minutes, **fuel_reservoirs):\n",
    "    main_report = f\"\"\"\n",
    "    Misión a {destination}\n",
    "    Tiempo total de viaje: {sum(minutes)} minutos\n",
    "    Combutible total que queda: {sum(fuel_reservoirs.values())}\n",
    "    \"\"\"\n",
    "    for tank_name, gallons in fuel_reservoirs.items():\n",
    "        main_report += f\"{tank_name} tank --> {gallons} Galones quedan \\n\"\n",
    "    return main_report\n",
    "\n",
    "print(mission_report(\"Luna\", 8, 11, 55, main=300000, external=200000))"
   ]
  }
 ],
 "metadata": {
  "interpreter": {
   "hash": "46dd17dadaf0a6d3349a7ae36236249a4d16aca6305a1ad0b3ba34586b7dd110"
  },
  "kernelspec": {
   "display_name": "Python 3.10.2 64-bit",
   "language": "python",
   "name": "python3"
  },
  "language_info": {
   "codemirror_mode": {
    "name": "ipython",
    "version": 3
   },
   "file_extension": ".py",
   "mimetype": "text/x-python",
   "name": "python",
   "nbconvert_exporter": "python",
   "pygments_lexer": "ipython3",
   "version": "3.10.2"
  },
  "orig_nbformat": 4
 },
 "nbformat": 4,
 "nbformat_minor": 2
}
